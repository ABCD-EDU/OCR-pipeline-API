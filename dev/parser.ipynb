{
 "cells": [
  {
   "cell_type": "code",
   "execution_count": 1,
   "metadata": {},
   "outputs": [],
   "source": [
    "from pdfminer.high_level import extract_text\n",
    "from pdfminer.high_level import extract_pages\n",
    "from pdfminer.layout import LTTextContainer, LTChar, LTTextBoxHorizontal\n",
    "\n",
    "from pdfminer.layout import LAParams, LTTextBox, LTText, LTChar, LTAnno\n",
    "from pdfminer.pdfpage import PDFPage\n",
    "from pdfminer.pdfinterp import PDFPageInterpreter, PDFResourceManager\n",
    "from pdfminer.converter import PDFPageAggregator"
   ]
  },
  {
   "cell_type": "code",
   "execution_count": 2,
   "metadata": {},
   "outputs": [],
   "source": [
    "src = \"../res/sample1.pdf\""
   ]
  },
  {
   "cell_type": "code",
   "execution_count": 59,
   "metadata": {},
   "outputs": [],
   "source": [
    "def getTokensInPage(page):\n",
    "    layout = page\n",
    "    x, y, text, face, size = -1, -1, '', \"\", -1\n",
    "    tokens = []\n",
    "    for textbox in layout:\n",
    "        if isinstance(textbox, LTText):\n",
    "            for line in textbox:\n",
    "                for char in line:\n",
    "                    # If the char is a line-break or an empty space, the word is complete\n",
    "                    if isinstance(char, LTAnno) or char.get_text() == ' ':\n",
    "                        if x != -1:\n",
    "                            obj = {\n",
    "                                \"x\":x,\n",
    "                                \"y\":y,\n",
    "                                \"text\":text,\n",
    "                                \"face\":face,\n",
    "                                \"size\":size\n",
    "                            }\n",
    "                            tokens.append(obj)\n",
    "                        x, y, text = -1, -1, ''     \n",
    "                    elif isinstance(char, LTChar):\n",
    "                        text += char.get_text()\n",
    "                        if x == -1:\n",
    "                            x, y, = char.bbox[0], char.bbox[3]\n",
    "                            face, size = char.fontname, char.size\n",
    "    return tokens\n",
    "\n",
    "def constructSentences(tokens):\n",
    "    sentences = []\n",
    "    sentence = \"\"\n",
    "    for token in tokens:\n",
    "        text = token[\"text\"]\n",
    "        # Add it to sentence if it is a period or a bullet point\n",
    "        if text[-1] == \".\" or text == \"•\":\n",
    "            if text == \"•\":\n",
    "                sentences.append(sentence)\n",
    "                sentence = \"•\"\n",
    "            if text[-1] == \".\":\n",
    "                sentence += \" \" + text\n",
    "                sentences.append(sentence)\n",
    "                sentence = \"\"\n",
    "        else:\n",
    "            sentence += \" \" + token[\"text\"]\n",
    "\n",
    "    sentences = [x.strip() for x in sentences if x.strip() != \"\"]\n",
    "    return sentences\n",
    "\n",
    "pages = {}\n",
    "\n",
    "for page_num, page in enumerate(extract_pages(src), 1):\n",
    "    page_data = {}\n",
    "    returned = getTokensInPage(page)\n",
    "    sentences = constructSentences(returned)\n",
    "    page_data[\"sentences\"] = sentences\n",
    "    page_data[\"tokens\"] = returned\n",
    "    pages[page_num] = page_data\n",
    "    if page_num == 5:\n",
    "        break"
   ]
  }
 ],
 "metadata": {
  "kernelspec": {
   "display_name": "Python 3",
   "language": "python",
   "name": "python3"
  },
  "language_info": {
   "codemirror_mode": {
    "name": "ipython",
    "version": 3
   },
   "file_extension": ".py",
   "mimetype": "text/x-python",
   "name": "python",
   "nbconvert_exporter": "python",
   "pygments_lexer": "ipython3",
   "version": "3.10.8 (tags/v3.10.8:aaaf517, Oct 11 2022, 16:50:30) [MSC v.1933 64 bit (AMD64)]"
  },
  "orig_nbformat": 4,
  "vscode": {
   "interpreter": {
    "hash": "edf259275ad4a72d4dd5b452264ad5fb2b635233dff2a31edc6ebc740e55e21b"
   }
  }
 },
 "nbformat": 4,
 "nbformat_minor": 2
}
