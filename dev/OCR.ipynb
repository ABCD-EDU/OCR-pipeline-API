{
 "cells": [
  {
   "cell_type": "code",
   "execution_count": 1,
   "metadata": {},
   "outputs": [],
   "source": [
    "from pdfminer.high_level import extract_text\n",
    "from pdfminer.high_level import extract_pages\n",
    "from pdfminer.layout import LTTextContainer, LTChar, LTTextBoxHorizontal\n",
    "\n",
    "from pdfminer.layout import LAParams, LTTextBox, LTText, LTChar, LTAnno\n",
    "from pdfminer.pdfpage import PDFPage\n",
    "from pdfminer.pdfinterp import PDFPageInterpreter, PDFResourceManager\n",
    "from pdfminer.converter import PDFPageAggregator"
   ]
  },
  {
   "cell_type": "code",
   "execution_count": 2,
   "metadata": {},
   "outputs": [],
   "source": [
    "src = \"../res/sample1.pdf\""
   ]
  },
  {
   "cell_type": "code",
   "execution_count": 45,
   "metadata": {},
   "outputs": [
    {
     "name": "stdout",
     "output_type": "stream",
     "text": [
      "Operating Algorithm of Viruses\n",
      "• Memory resident viruses:\n",
      "• starts the infection process by first installing itself.\n",
      "Then it checks if another instance of itself is already residing in memory (called memory residency check).\n",
      "If not yet installed, it allocates memory space and loads itself to the allocated space to become resident.\n",
      "• The virus then hooks DOS functions or APIs.\n",
      "Other executable files that make use of the hooked functions or APIs are validated for suitability by the virus.\n",
      "If the executable file can be infected, the virus checks if it has already been infected before.\n",
      "• Similar with the process followed by direct file injectors, once the executable has been checked, the malicious code is inserted to the target and the payload, if there is any, is generated.\n",
      "Once completed, either the control is passed onto the host or the virus executes the host.\n"
     ]
    }
   ],
   "source": [
    "def getTokensInPage(page):\n",
    "    layout = page\n",
    "    x, y, text, face, size = -1, -1, '', \"\", -1\n",
    "    tokens = []\n",
    "    for textbox in layout:\n",
    "        if isinstance(textbox, LTText):\n",
    "            for line in textbox:\n",
    "                for char in line:\n",
    "                    # If the char is a line-break or an empty space, the word is complete\n",
    "                    if isinstance(char, LTAnno) or char.get_text() == ' ':\n",
    "                        if x != -1:\n",
    "                            obj = {\n",
    "                                \"x\":x,\n",
    "                                \"y\":y,\n",
    "                                \"text\":text,\n",
    "                                \"face\":face,\n",
    "                                \"size\":size\n",
    "                            }\n",
    "                            tokens.append(obj)\n",
    "                        x, y, text = -1, -1, ''     \n",
    "                    elif isinstance(char, LTChar):\n",
    "                        text += char.get_text()\n",
    "                        if x == -1:\n",
    "                            x, y, = char.bbox[0], char.bbox[3]\n",
    "                            face, size = char.fontname, char.size\n",
    "    return tokens\n",
    "\n",
    "def constructSentences(tokens):\n",
    "    sentences = []\n",
    "    sentence = \"\"\n",
    "    for token in tokens:\n",
    "        text = token[\"text\"]\n",
    "        # Add it to sentence if it is a period or a bullet point\n",
    "        if text[-1] == \".\" or text == \"•\":\n",
    "            if text == \"•\":\n",
    "                # print(\"-- found a bullet\")\n",
    "                # print(sentence)\n",
    "                sentences.append(sentence)\n",
    "                sentence = \"•\"\n",
    "            if text[-1] == \".\":\n",
    "                # print(\"-- found a period\")\n",
    "                sentence += \" \" + text\n",
    "                # print(sentence)\n",
    "                sentences.append(sentence)\n",
    "                sentence = \"\"\n",
    "        else:\n",
    "            sentence += \" \" + token[\"text\"]\n",
    "\n",
    "    sentences = [x.strip() for x in sentences if x.strip() != \"\"]\n",
    "    # Strip() all sentences\n",
    "    # for i, sentence in enumerate(sentences):\n",
    "    #     sentences[i] = sentence.strip()\n",
    "    return sentences\n",
    "\n",
    "for pageNum, page in enumerate(extract_pages(src), 1):\n",
    "    if pageNum == 12:\n",
    "        returned = getTokensInPage(page)\n",
    "        sentences = constructSentences(returned)\n",
    "        for x in sentences:\n",
    "            print(x)\n",
    "        break"
   ]
  }
 ],
 "metadata": {
  "kernelspec": {
   "display_name": "Python 3",
   "language": "python",
   "name": "python3"
  },
  "language_info": {
   "codemirror_mode": {
    "name": "ipython",
    "version": 3
   },
   "file_extension": ".py",
   "mimetype": "text/x-python",
   "name": "python",
   "nbconvert_exporter": "python",
   "pygments_lexer": "ipython3",
   "version": "3.10.8"
  },
  "orig_nbformat": 4,
  "vscode": {
   "interpreter": {
    "hash": "edf259275ad4a72d4dd5b452264ad5fb2b635233dff2a31edc6ebc740e55e21b"
   }
  }
 },
 "nbformat": 4,
 "nbformat_minor": 2
}
